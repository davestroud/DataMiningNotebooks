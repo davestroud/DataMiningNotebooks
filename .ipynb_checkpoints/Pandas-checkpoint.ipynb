{
 "cells": [
  {
   "cell_type": "markdown",
   "metadata": {},
   "source": [
    "# Data Mining, an introduction to the Pandas package \n",
    "This is a companion notebook for video content presented as part of the Data Mining course at SMU.\n",
    "\n",
    "In this tutorial we will be looking at a number of different parts of the Pandas package for data analysis, including:\n",
    "- Data Frames\n",
    " - loading data\n",
    " - head and tail commands\n",
    "- Munging\n",
    " - indexing operations\n",
    " - basic statistics\n",
    " - encoding\n",
    " - imputation (optional)\n",
    "- bonus: calling R with magics"
   ]
  },
  {
   "cell_type": "markdown",
   "metadata": {},
   "source": [
    "## Data Frames\n",
    "Data frames in Pandas are basically like tables of data that you can do some really interesting relational database operations upon. There are many built in methods for aggregation and visualization, but we will cover those next time."
   ]
  },
  {
   "cell_type": "markdown",
   "metadata": {},
   "source": [
    "First lets load a typical table of data from a csv file. You can download the file from here:\n",
    "https://archive.ics.uci.edu/ml/datasets/Heart+Disease\n",
    "\n",
    "Make sure to place it in this directory or adjust the path for the file.\n",
    "### Reading Data from CSV with Pandas"
   ]
  },
  {
   "cell_type": "code",
   "execution_count": 2,
   "metadata": {},
   "outputs": [
    {
     "name": "stdout",
     "output_type": "stream",
     "text": [
      "site,age,is_male,chest_pain,rest_blood_press,cholesterol,high_blood_sugar,rest_ecg,max_heart_rate,exer_angina,ST_depression,Peak_ST_seg,major_vessels,thal,has_heart_disease\n",
      " cleve,63,1,1,145,233,1,2,150,0,2.3,3,0,6,0\n",
      " cleve,67,1,4,160,286,0,2,108,1,1.5,2,3,3,2\n",
      " cleve,67,1,4,120,229,0,2,129,1,2.6,2,2,7,1\n",
      " cleve,37,1,3,130,250,0,0,187,0,3.5,3,0,3,0\n",
      " "
     ]
    }
   ],
   "source": [
    "# let's print out the first five rows inside a csv file\n",
    "\n",
    "# NOTE: you may need to change the path to the file, \n",
    "#       depending on where you saved the data\n",
    "with open('data/heart_disease.csv') as fid:\n",
    "    for idx, row in enumerate(fid):\n",
    "        print (row,end=' ')\n",
    "        if idx >= 4:\n",
    "            break"
   ]
  },
  {
   "cell_type": "code",
   "execution_count": null,
   "metadata": {},
   "outputs": [],
   "source": []
  }
 ],
 "metadata": {
  "kernelspec": {
   "display_name": "Python 3",
   "language": "python",
   "name": "python3"
  },
  "language_info": {
   "codemirror_mode": {
    "name": "ipython",
    "version": 3
   },
   "file_extension": ".py",
   "mimetype": "text/x-python",
   "name": "python",
   "nbconvert_exporter": "python",
   "pygments_lexer": "ipython3",
   "version": "3.6.5"
  }
 },
 "nbformat": 4,
 "nbformat_minor": 2
}
