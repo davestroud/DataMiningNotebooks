{
 "cells": [
  {
   "cell_type": "markdown",
   "metadata": {},
   "source": [
    "# Feature Manipulation in Pandas"
   ]
  },
  {
   "cell_type": "markdown",
   "metadata": {},
   "source": [
    "This is a companion notebook for videos part of unit 2 for the data mining course.\n",
    "\n",
    "Here let's look at a different dataset that will allow us to really dive into some meaningful statistics. This data set is publically available, but is also part of a Kaggle competition.\n",
    "\n",
    "You can get the data from here: https://www.kaggle.com/c/titanic-gettingStarted \n",
    "\n",
    "There are lots of iPython notebooks for looking at the Titanic data. Check them out and see you like any!"
   ]
  },
  {
   "cell_type": "code",
   "execution_count": 1,
   "metadata": {},
   "outputs": [],
   "source": [
    "# from IPython.display import YouTubeVideo\n",
    "# YouTubeVideo(\"9xoqXVjBEF8\")"
   ]
  },
  {
   "cell_type": "code",
   "execution_count": 6,
   "metadata": {},
   "outputs": [
    {
     "data": {
      "text/html": [
       "<div>\n",
       "<style scoped>\n",
       "    .dataframe tbody tr th:only-of-type {\n",
       "        vertical-align: middle;\n",
       "    }\n",
       "\n",
       "    .dataframe tbody tr th {\n",
       "        vertical-align: top;\n",
       "    }\n",
       "\n",
       "    .dataframe thead th {\n",
       "        text-align: right;\n",
       "    }\n",
       "</style>\n",
       "<table border=\"1\" class=\"dataframe\">\n",
       "  <thead>\n",
       "    <tr style=\"text-align: right;\">\n",
       "      <th></th>\n",
       "      <th>PassengerId</th>\n",
       "      <th>Survived</th>\n",
       "      <th>Pclass</th>\n",
       "      <th>Name</th>\n",
       "      <th>Sex</th>\n",
       "      <th>Age</th>\n",
       "      <th>SibSp</th>\n",
       "      <th>Parch</th>\n",
       "      <th>Ticket</th>\n",
       "      <th>Fare</th>\n",
       "      <th>Cabin</th>\n",
       "      <th>Embarked</th>\n",
       "    </tr>\n",
       "  </thead>\n",
       "  <tbody>\n",
       "    <tr>\n",
       "      <th>0</th>\n",
       "      <td>1</td>\n",
       "      <td>0</td>\n",
       "      <td>3</td>\n",
       "      <td>Braund, Mr. Owen Harris</td>\n",
       "      <td>male</td>\n",
       "      <td>22.0</td>\n",
       "      <td>1</td>\n",
       "      <td>0</td>\n",
       "      <td>A/5 21171</td>\n",
       "      <td>7.2500</td>\n",
       "      <td>NaN</td>\n",
       "      <td>S</td>\n",
       "    </tr>\n",
       "    <tr>\n",
       "      <th>1</th>\n",
       "      <td>2</td>\n",
       "      <td>1</td>\n",
       "      <td>1</td>\n",
       "      <td>Cumings, Mrs. John Bradley (Florence Briggs Th...</td>\n",
       "      <td>female</td>\n",
       "      <td>38.0</td>\n",
       "      <td>1</td>\n",
       "      <td>0</td>\n",
       "      <td>PC 17599</td>\n",
       "      <td>71.2833</td>\n",
       "      <td>C85</td>\n",
       "      <td>C</td>\n",
       "    </tr>\n",
       "    <tr>\n",
       "      <th>2</th>\n",
       "      <td>3</td>\n",
       "      <td>1</td>\n",
       "      <td>3</td>\n",
       "      <td>Heikkinen, Miss. Laina</td>\n",
       "      <td>female</td>\n",
       "      <td>26.0</td>\n",
       "      <td>0</td>\n",
       "      <td>0</td>\n",
       "      <td>STON/O2. 3101282</td>\n",
       "      <td>7.9250</td>\n",
       "      <td>NaN</td>\n",
       "      <td>S</td>\n",
       "    </tr>\n",
       "    <tr>\n",
       "      <th>3</th>\n",
       "      <td>4</td>\n",
       "      <td>1</td>\n",
       "      <td>1</td>\n",
       "      <td>Futrelle, Mrs. Jacques Heath (Lily May Peel)</td>\n",
       "      <td>female</td>\n",
       "      <td>35.0</td>\n",
       "      <td>1</td>\n",
       "      <td>0</td>\n",
       "      <td>113803</td>\n",
       "      <td>53.1000</td>\n",
       "      <td>C123</td>\n",
       "      <td>S</td>\n",
       "    </tr>\n",
       "    <tr>\n",
       "      <th>4</th>\n",
       "      <td>5</td>\n",
       "      <td>0</td>\n",
       "      <td>3</td>\n",
       "      <td>Allen, Mr. William Henry</td>\n",
       "      <td>male</td>\n",
       "      <td>35.0</td>\n",
       "      <td>0</td>\n",
       "      <td>0</td>\n",
       "      <td>373450</td>\n",
       "      <td>8.0500</td>\n",
       "      <td>NaN</td>\n",
       "      <td>S</td>\n",
       "    </tr>\n",
       "  </tbody>\n",
       "</table>\n",
       "</div>"
      ],
      "text/plain": [
       "   PassengerId  Survived  Pclass  \\\n",
       "0            1         0       3   \n",
       "1            2         1       1   \n",
       "2            3         1       3   \n",
       "3            4         1       1   \n",
       "4            5         0       3   \n",
       "\n",
       "                                                Name     Sex   Age  SibSp  \\\n",
       "0                            Braund, Mr. Owen Harris    male  22.0      1   \n",
       "1  Cumings, Mrs. John Bradley (Florence Briggs Th...  female  38.0      1   \n",
       "2                             Heikkinen, Miss. Laina  female  26.0      0   \n",
       "3       Futrelle, Mrs. Jacques Heath (Lily May Peel)  female  35.0      1   \n",
       "4                           Allen, Mr. William Henry    male  35.0      0   \n",
       "\n",
       "   Parch            Ticket     Fare Cabin Embarked  \n",
       "0      0         A/5 21171   7.2500   NaN        S  \n",
       "1      0          PC 17599  71.2833   C85        C  \n",
       "2      0  STON/O2. 3101282   7.9250   NaN        S  \n",
       "3      0            113803  53.1000  C123        S  \n",
       "4      0            373450   8.0500   NaN        S  "
      ]
     },
     "execution_count": 6,
     "metadata": {},
     "output_type": "execute_result"
    }
   ],
   "source": [
    "# load the Titantic dataset\n",
    "import pandas as pd\n",
    "import numpy as np\n",
    "\n",
    "df = pd.read_csv('data/titanic.csv')\n",
    "\n",
    "df.head()"
   ]
  },
  {
   "cell_type": "code",
   "execution_count": 7,
   "metadata": {},
   "outputs": [
    {
     "data": {
      "text/html": [
       "<div>\n",
       "<style scoped>\n",
       "    .dataframe tbody tr th:only-of-type {\n",
       "        vertical-align: middle;\n",
       "    }\n",
       "\n",
       "    .dataframe tbody tr th {\n",
       "        vertical-align: top;\n",
       "    }\n",
       "\n",
       "    .dataframe thead th {\n",
       "        text-align: right;\n",
       "    }\n",
       "</style>\n",
       "<table border=\"1\" class=\"dataframe\">\n",
       "  <thead>\n",
       "    <tr style=\"text-align: right;\">\n",
       "      <th></th>\n",
       "      <th>PassengerId</th>\n",
       "      <th>Survived</th>\n",
       "      <th>Pclass</th>\n",
       "      <th>Age</th>\n",
       "      <th>SibSp</th>\n",
       "      <th>Parch</th>\n",
       "      <th>Fare</th>\n",
       "    </tr>\n",
       "  </thead>\n",
       "  <tbody>\n",
       "    <tr>\n",
       "      <th>count</th>\n",
       "      <td>891.000000</td>\n",
       "      <td>891.000000</td>\n",
       "      <td>891.000000</td>\n",
       "      <td>714.000000</td>\n",
       "      <td>891.000000</td>\n",
       "      <td>891.000000</td>\n",
       "      <td>891.000000</td>\n",
       "    </tr>\n",
       "    <tr>\n",
       "      <th>mean</th>\n",
       "      <td>446.000000</td>\n",
       "      <td>0.383838</td>\n",
       "      <td>2.308642</td>\n",
       "      <td>29.699118</td>\n",
       "      <td>0.523008</td>\n",
       "      <td>0.381594</td>\n",
       "      <td>32.204208</td>\n",
       "    </tr>\n",
       "    <tr>\n",
       "      <th>std</th>\n",
       "      <td>257.353842</td>\n",
       "      <td>0.486592</td>\n",
       "      <td>0.836071</td>\n",
       "      <td>14.526497</td>\n",
       "      <td>1.102743</td>\n",
       "      <td>0.806057</td>\n",
       "      <td>49.693429</td>\n",
       "    </tr>\n",
       "    <tr>\n",
       "      <th>min</th>\n",
       "      <td>1.000000</td>\n",
       "      <td>0.000000</td>\n",
       "      <td>1.000000</td>\n",
       "      <td>0.420000</td>\n",
       "      <td>0.000000</td>\n",
       "      <td>0.000000</td>\n",
       "      <td>0.000000</td>\n",
       "    </tr>\n",
       "    <tr>\n",
       "      <th>25%</th>\n",
       "      <td>223.500000</td>\n",
       "      <td>0.000000</td>\n",
       "      <td>2.000000</td>\n",
       "      <td>20.125000</td>\n",
       "      <td>0.000000</td>\n",
       "      <td>0.000000</td>\n",
       "      <td>7.910400</td>\n",
       "    </tr>\n",
       "    <tr>\n",
       "      <th>50%</th>\n",
       "      <td>446.000000</td>\n",
       "      <td>0.000000</td>\n",
       "      <td>3.000000</td>\n",
       "      <td>28.000000</td>\n",
       "      <td>0.000000</td>\n",
       "      <td>0.000000</td>\n",
       "      <td>14.454200</td>\n",
       "    </tr>\n",
       "    <tr>\n",
       "      <th>75%</th>\n",
       "      <td>668.500000</td>\n",
       "      <td>1.000000</td>\n",
       "      <td>3.000000</td>\n",
       "      <td>38.000000</td>\n",
       "      <td>1.000000</td>\n",
       "      <td>0.000000</td>\n",
       "      <td>31.000000</td>\n",
       "    </tr>\n",
       "    <tr>\n",
       "      <th>max</th>\n",
       "      <td>891.000000</td>\n",
       "      <td>1.000000</td>\n",
       "      <td>3.000000</td>\n",
       "      <td>80.000000</td>\n",
       "      <td>8.000000</td>\n",
       "      <td>6.000000</td>\n",
       "      <td>512.329200</td>\n",
       "    </tr>\n",
       "  </tbody>\n",
       "</table>\n",
       "</div>"
      ],
      "text/plain": [
       "       PassengerId    Survived      Pclass         Age       SibSp  \\\n",
       "count   891.000000  891.000000  891.000000  714.000000  891.000000   \n",
       "mean    446.000000    0.383838    2.308642   29.699118    0.523008   \n",
       "std     257.353842    0.486592    0.836071   14.526497    1.102743   \n",
       "min       1.000000    0.000000    1.000000    0.420000    0.000000   \n",
       "25%     223.500000    0.000000    2.000000   20.125000    0.000000   \n",
       "50%     446.000000    0.000000    3.000000   28.000000    0.000000   \n",
       "75%     668.500000    1.000000    3.000000   38.000000    1.000000   \n",
       "max     891.000000    1.000000    3.000000   80.000000    8.000000   \n",
       "\n",
       "            Parch        Fare  \n",
       "count  891.000000  891.000000  \n",
       "mean     0.381594   32.204208  \n",
       "std      0.806057   49.693429  \n",
       "min      0.000000    0.000000  \n",
       "25%      0.000000    7.910400  \n",
       "50%      0.000000   14.454200  \n",
       "75%      0.000000   31.000000  \n",
       "max      6.000000  512.329200  "
      ]
     },
     "execution_count": 7,
     "metadata": {},
     "output_type": "execute_result"
    }
   ],
   "source": [
    "df.describe()"
   ]
  },
  {
   "cell_type": "code",
   "execution_count": 8,
   "metadata": {},
   "outputs": [
    {
     "name": "stdout",
     "output_type": "stream",
     "text": [
      "PassengerId      int64\n",
      "Survived         int64\n",
      "Pclass           int64\n",
      "Name            object\n",
      "Sex             object\n",
      "Age            float64\n",
      "SibSp            int64\n",
      "Parch            int64\n",
      "Ticket          object\n",
      "Fare           float64\n",
      "Cabin           object\n",
      "Embarked        object\n",
      "dtype: object\n",
      "<class 'pandas.core.frame.DataFrame'>\n",
      "RangeIndex: 891 entries, 0 to 890\n",
      "Data columns (total 12 columns):\n",
      "PassengerId    891 non-null int64\n",
      "Survived       891 non-null int64\n",
      "Pclass         891 non-null int64\n",
      "Name           891 non-null object\n",
      "Sex            891 non-null object\n",
      "Age            714 non-null float64\n",
      "SibSp          891 non-null int64\n",
      "Parch          891 non-null int64\n",
      "Ticket         891 non-null object\n",
      "Fare           891 non-null float64\n",
      "Cabin          204 non-null object\n",
      "Embarked       889 non-null object\n",
      "dtypes: float64(2), int64(5), object(5)\n",
      "memory usage: 83.6+ KB\n",
      "None\n"
     ]
    }
   ],
   "source": [
    "print (df.dtypes)\n",
    "print (df.info())"
   ]
  },
  {
   "cell_type": "code",
   "execution_count": 19,
   "metadata": {},
   "outputs": [
    {
     "data": {
      "text/plain": [
       "61.61616161616161"
      ]
     },
     "execution_count": 19,
     "metadata": {},
     "output_type": "execute_result"
    }
   ],
   "source": [
    "# the percentage of individuals that died on the titanic\n",
    "len(df[df.Survived==0])/len(df)*100.0"
   ]
  },
  {
   "cell_type": "code",
   "execution_count": 26,
   "metadata": {},
   "outputs": [
    {
     "name": "stdout",
     "output_type": "stream",
     "text": [
      "Pclass\n",
      "1    136\n",
      "2     87\n",
      "3    119\n",
      "Name: Survived, dtype: int64\n",
      "---------------------------------------\n",
      "Pclass\n",
      "1    216\n",
      "2    184\n",
      "3    491\n",
      "Name: Survived, dtype: int64\n",
      "---------------------------------------\n",
      "Pclass\n",
      "1    0.629630\n",
      "2    0.472826\n",
      "3    0.242363\n",
      "Name: Survived, dtype: float64\n"
     ]
    }
   ],
   "source": [
    "# Let's aggregate by class and count survival rates\n",
    "df_grouped = df.groupby(by='Pclass')\n",
    "print (df_grouped.Survived.sum())\n",
    "print ('---------------------------------------')\n",
    "print (df_grouped.Survived.count())\n",
    "print ('---------------------------------------')\n",
    "print (df_grouped.Survived.sum() / df_grouped.Survived.count())"
   ]
  },
  {
   "cell_type": "markdown",
   "metadata": {},
   "source": [
    "## Feature Discretization"
   ]
  },
  {
   "cell_type": "code",
   "execution_count": 32,
   "metadata": {},
   "outputs": [
    {
     "data": {
      "text/plain": [
       "count       714\n",
       "unique        3\n",
       "top       adult\n",
       "freq        606\n",
       "Name: age_range, dtype: object"
      ]
     },
     "execution_count": 32,
     "metadata": {},
     "output_type": "execute_result"
    }
   ],
   "source": [
    "# let's break up the age variable\n",
    "df['age_range'] = pd.cut(df.Age,[0,16,65,1e6],3,labels=['child','adult','senior']) # this creates a new variable\n",
    "df.age_range.describe()"
   ]
  },
  {
   "cell_type": "code",
   "execution_count": 39,
   "metadata": {},
   "outputs": [
    {
     "name": "stdout",
     "output_type": "stream",
     "text": [
      "Percentage of survivors in each group:\n",
      "Pclass  age_range\n",
      "1       child        88.888889\n",
      "        adult        65.317919\n",
      "        senior       25.000000\n",
      "2       child        90.476190\n",
      "        adult        42.666667\n",
      "        senior        0.000000\n",
      "3       child        40.000000\n",
      "        adult        20.141343\n",
      "        senior        0.000000\n",
      "Name: Survived, dtype: float64\n"
     ]
    }
   ],
   "source": [
    "# now let's group with the new variable\n",
    "df_grouped = df.groupby(by=['Pclass','age_range'])\n",
    "print (\"Percentage of survivors in each group:\")\n",
    "print (df_grouped.Survived.sum() / df_grouped.Survived.count()* 100.0)"
   ]
  },
  {
   "cell_type": "code",
   "execution_count": 48,
   "metadata": {},
   "outputs": [
    {
     "name": "stdout",
     "output_type": "stream",
     "text": [
      "                Age                                                         \\\n",
      "              count       mean        std    min    25%   50%    75%   max   \n",
      "Pclass SibSp                                                                 \n",
      "1      0      113.0  39.181416  14.844591   4.00  28.00  37.0  50.00  80.0   \n",
      "       1       65.0  37.414154  14.690355   0.92  28.00  38.0  49.00  70.0   \n",
      "       2        5.0  37.200000  16.513631  18.00  21.00  44.0  50.00  53.0   \n",
      "       3        3.0  22.000000   2.645751  19.00  21.00  23.0  23.50  24.0   \n",
      "2      0      109.0  31.934220  13.486824   0.83  23.00  30.0  39.00  70.0   \n",
      "       1       55.0  27.363636  14.609811   0.67  21.50  29.0  35.00  60.0   \n",
      "       2        8.0  19.125000  10.776131   1.00  16.75  23.5  24.00  32.0   \n",
      "       3        1.0  30.000000        NaN  30.00  30.00  30.0  30.00  30.0   \n",
      "3      0      249.0  27.630201  11.501377   0.42  20.00  26.0  33.00  74.0   \n",
      "       1       63.0  24.912698  11.439018   1.00  17.50  25.0  32.50  48.0   \n",
      "       2       12.0  18.875000  13.276560   0.75   8.00  19.5  26.50  41.0   \n",
      "       3        8.0   8.875000  10.260013   2.00   2.75   6.0   9.25  33.0   \n",
      "       4       18.0   7.055556   4.880601   1.00   3.25   6.5   9.00  17.0   \n",
      "       5        5.0  10.200000   5.805170   1.00   9.00  11.0  14.00  16.0   \n",
      "       8        0.0        NaN        NaN    NaN    NaN   NaN    NaN   NaN   \n",
      "\n",
      "               Fare             ...  Parch      Survived                      \\\n",
      "              count        mean ...    75%  max    count      mean       std   \n",
      "Pclass SibSp                    ...                                            \n",
      "1      0      137.0   75.223356 ...    0.0  2.0    137.0  0.562044  0.497956   \n",
      "       1       71.0   88.492021 ...    1.0  4.0     71.0  0.746479  0.438123   \n",
      "       2        5.0  159.975840 ...    2.0  2.0      5.0  0.800000  0.447214   \n",
      "       3        3.0  263.000000 ...    2.0  2.0      3.0  0.666667  0.577350   \n",
      "2      0      120.0   15.532327 ...    0.0  2.0    120.0  0.416667  0.495074   \n",
      "       1       55.0   28.385682 ...    1.0  3.0     55.0  0.581818  0.497807   \n",
      "       2        8.0   44.468750 ...    1.0  3.0      8.0  0.500000  0.534522   \n",
      "       3        1.0   21.000000 ...    0.0  0.0      1.0  1.000000       NaN   \n",
      "3      0      351.0    9.832689 ...    0.0  5.0    351.0  0.236467  0.425519   \n",
      "       1       83.0   16.658487 ...    1.0  6.0     83.0  0.325301  0.471335   \n",
      "       2       15.0   19.564993 ...    1.0  2.0     15.0  0.333333  0.487950   \n",
      "       3       12.0   24.378483 ...    2.0  2.0     12.0  0.083333  0.288675   \n",
      "       4       18.0   31.855556 ...    2.0  2.0     18.0  0.166667  0.383482   \n",
      "       5        5.0   46.900000 ...    2.0  2.0      5.0  0.000000  0.000000   \n",
      "       8        7.0   69.550000 ...    2.0  2.0      7.0  0.000000  0.000000   \n",
      "\n",
      "                                       \n",
      "              min  25%  50%  75%  max  \n",
      "Pclass SibSp                           \n",
      "1      0      0.0  0.0  1.0  1.0  1.0  \n",
      "       1      0.0  0.5  1.0  1.0  1.0  \n",
      "       2      0.0  1.0  1.0  1.0  1.0  \n",
      "       3      0.0  0.5  1.0  1.0  1.0  \n",
      "2      0      0.0  0.0  0.0  1.0  1.0  \n",
      "       1      0.0  0.0  1.0  1.0  1.0  \n",
      "       2      0.0  0.0  0.5  1.0  1.0  \n",
      "       3      1.0  1.0  1.0  1.0  1.0  \n",
      "3      0      0.0  0.0  0.0  0.0  1.0  \n",
      "       1      0.0  0.0  0.0  1.0  1.0  \n",
      "       2      0.0  0.0  0.0  1.0  1.0  \n",
      "       3      0.0  0.0  0.0  0.0  1.0  \n",
      "       4      0.0  0.0  0.0  0.0  1.0  \n",
      "       5      0.0  0.0  0.0  0.0  0.0  \n",
      "       8      0.0  0.0  0.0  0.0  0.0  \n",
      "\n",
      "[15 rows x 32 columns]\n"
     ]
    }
   ],
   "source": [
    "# Let's clean the dataset a little before moving on\n",
    "\n",
    "# 1. Remove attributes that just aren't useful for us\n",
    "for col in ['PassengerId','Name','Cabin','Ticket']:\n",
    "    if col in df:\n",
    "        del df[col]\n",
    "        \n",
    "# 2. Impute some missing values, grouped by their Pclass and SibSp numbers\n",
    "df_grouped = df.groupby(by=['Pclass','SibSp'])\n",
    "print (df_grouped.describe())"
   ]
  },
  {
   "cell_type": "code",
   "execution_count": 53,
   "metadata": {},
   "outputs": [
    {
     "name": "stdout",
     "output_type": "stream",
     "text": [
      "<class 'pandas.core.frame.DataFrame'>\n",
      "RangeIndex: 891 entries, 0 to 890\n",
      "Data columns (total 8 columns):\n",
      "Survived    891 non-null int64\n",
      "Age         884 non-null float64\n",
      "Parch       891 non-null int64\n",
      "Fare        891 non-null float64\n",
      "Pclass      891 non-null int64\n",
      "SibSp       891 non-null int64\n",
      "Sex         891 non-null object\n",
      "Embarked    889 non-null object\n",
      "dtypes: float64(2), int64(4), object(2)\n",
      "memory usage: 55.8+ KB\n",
      "None\n"
     ]
    },
    {
     "name": "stderr",
     "output_type": "stream",
     "text": [
      "/Users/davidstroud/anaconda3/envs/snakes/lib/python3.6/site-packages/numpy/lib/nanfunctions.py:990: RuntimeWarning: Mean of empty slice\n",
      "  return np.nanmean(a, axis, out=out, keepdims=keepdims)\n"
     ]
    }
   ],
   "source": [
    "# now use this grouping to fill the data set in each group, then transform back\n",
    "df_imputed = df_grouped.transform(lambda grp: grp.fillna(grp.median()))\n",
    "df_imputed[['Pclass','SibSp','Sex','Embarked']] = df[['Pclass','SibSp','Sex','Embarked']]\n",
    "\n",
    "print (df_imputed.info())"
   ]
  },
  {
   "cell_type": "code",
   "execution_count": 57,
   "metadata": {},
   "outputs": [
    {
     "name": "stdout",
     "output_type": "stream",
     "text": [
      "<class 'pandas.core.frame.DataFrame'>\n",
      "RangeIndex: 891 entries, 0 to 890\n",
      "Data columns (total 9 columns):\n",
      "Survived     891 non-null int64\n",
      "Age          884 non-null float64\n",
      "Parch        891 non-null int64\n",
      "Fare         891 non-null float64\n",
      "Pclass       891 non-null int64\n",
      "SibSp        891 non-null int64\n",
      "Sex          891 non-null object\n",
      "Embarked     889 non-null object\n",
      "age_range    884 non-null category\n",
      "dtypes: category(1), float64(2), int64(4), object(2)\n",
      "memory usage: 56.7+ KB\n",
      "None\n"
     ]
    }
   ],
   "source": [
    "# 3. Computed discrete features again now with the newest values\n",
    "df_imputed['age_range'] = pd.cut(df_imputed.Age,[0,16,65,1e6],3,labels=['child','adult','senior']) # this creates a new variable\n",
    "\n",
    "print (df_imputed.info())"
   ]
  },
  {
   "cell_type": "code",
   "execution_count": 78,
   "metadata": {},
   "outputs": [
    {
     "name": "stdout",
     "output_type": "stream",
     "text": [
      "<class 'pandas.core.frame.DataFrame'>\n",
      "Int64Index: 882 entries, 0 to 890\n",
      "Data columns (total 9 columns):\n",
      "Survived     882 non-null int64\n",
      "Age          882 non-null float64\n",
      "age_range    882 non-null category\n",
      "Sex          882 non-null object\n",
      "Parch        882 non-null int64\n",
      "SibSp        882 non-null int64\n",
      "Pclass       882 non-null int64\n",
      "Fare         882 non-null float64\n",
      "Embarked     882 non-null object\n",
      "dtypes: category(1), float64(2), int64(4), object(2)\n",
      "memory usage: 63.0+ KB\n",
      "None\n"
     ]
    }
   ],
   "source": [
    "# 4. Drop the rows that still have missing values after grouped imputation\n",
    "df_imputed.dropna(inplace=True)\n",
    "\n",
    "# 5. Rearrange the columns\n",
    "df_imputed = df_imputed[['Survived','Age','age_range','Sex','Parch','SibSp','Pclass','Fare','Embarked']]\n",
    "\n",
    "print (df_imputed.info())"
   ]
  },
  {
   "cell_type": "code",
   "execution_count": 79,
   "metadata": {},
   "outputs": [
    {
     "name": "stdout",
     "output_type": "stream",
     "text": [
      "Percentage of survivors in each group, with imputed values:\n",
      "Pclass  age_range\n",
      "1       child        88.888889\n",
      "        adult        62.189055\n",
      "        senior       25.000000\n",
      "2       child        90.476190\n",
      "        adult        42.236025\n",
      "        senior        0.000000\n",
      "3       child        37.837838\n",
      "        adult        22.303922\n",
      "        senior        0.000000\n",
      "Name: Survived, dtype: float64\n"
     ]
    }
   ],
   "source": [
    "# did the statistics of the survival group change much? Let's check by repeating the previous grouped calculations\n",
    "df_grouped = df_imputed.groupby(by=['Pclass', 'age_range'])\n",
    "print (\"Percentage of survivors in each group, with imputed values:\")\n",
    "print (df_grouped.Survived.sum() / df_grouped.Survived.count() * 100.0)"
   ]
  },
  {
   "cell_type": "code",
   "execution_count": 80,
   "metadata": {},
   "outputs": [
    {
     "name": "stdout",
     "output_type": "stream",
     "text": [
      "         Survived         Age      Pclass        Fare\n",
      "count  882.000000  882.000000  882.000000  882.000000\n",
      "mean     0.385488    0.362094    0.653061    0.062068\n",
      "std      0.486986    0.166808    0.417871    0.097168\n",
      "min      0.000000    0.000000    0.000000    0.000000\n",
      "25%      0.000000    0.271174    0.500000    0.015412\n",
      "50%      0.000000    0.321438    1.000000    0.028213\n",
      "75%      1.000000    0.459663    1.000000    0.059532\n",
      "max      1.000000    1.000000    1.000000    1.000000\n"
     ]
    }
   ],
   "source": [
    "df_sub = df_imputed[['Survived', 'Age', 'Pclass', 'Fare']]\n",
    "df_normalized = (df_sub - df_sub.min()) / (df_sub.max() - df_sub.min()) \n",
    "\n",
    "print (df_normalized.describe())"
   ]
  },
  {
   "cell_type": "code",
   "execution_count": 83,
   "metadata": {},
   "outputs": [
    {
     "name": "stdout",
     "output_type": "stream",
     "text": [
      "[ 1.  1.  1.  1.]\n",
      "[  6.04203007e-18   1.53064762e-16  -1.89316942e-16  -6.04203007e-17]\n"
     ]
    }
   ],
   "source": [
    "from sklearn.preprocessing import StandardScaler\n",
    "\n",
    "df_matrix = df_imputed[['Survived','Age', 'Pclass', 'Fare']].values\n",
    "\n",
    "s_obj = StandardScaler()\n",
    "df_matrix_norm = s_obj.fit_transform(df_matrix)\n",
    "\n",
    "print (np.std(df_matrix_norm, axis=0)) # unit std\n",
    "print (np.mean(df_matrix_norm, axis=0)) # zero mean"
   ]
  },
  {
   "cell_type": "markdown",
   "metadata": {},
   "source": [
    "# One Hot Encoding with Pandas"
   ]
  },
  {
   "cell_type": "code",
   "execution_count": 87,
   "metadata": {},
   "outputs": [
    {
     "data": {
      "text/html": [
       "<div>\n",
       "<style scoped>\n",
       "    .dataframe tbody tr th:only-of-type {\n",
       "        vertical-align: middle;\n",
       "    }\n",
       "\n",
       "    .dataframe tbody tr th {\n",
       "        vertical-align: top;\n",
       "    }\n",
       "\n",
       "    .dataframe thead th {\n",
       "        text-align: right;\n",
       "    }\n",
       "</style>\n",
       "<table border=\"1\" class=\"dataframe\">\n",
       "  <thead>\n",
       "    <tr style=\"text-align: right;\">\n",
       "      <th></th>\n",
       "      <th>gender_female</th>\n",
       "      <th>gender_male</th>\n",
       "    </tr>\n",
       "  </thead>\n",
       "  <tbody>\n",
       "    <tr>\n",
       "      <th>0</th>\n",
       "      <td>0</td>\n",
       "      <td>1</td>\n",
       "    </tr>\n",
       "    <tr>\n",
       "      <th>1</th>\n",
       "      <td>1</td>\n",
       "      <td>0</td>\n",
       "    </tr>\n",
       "    <tr>\n",
       "      <th>2</th>\n",
       "      <td>1</td>\n",
       "      <td>0</td>\n",
       "    </tr>\n",
       "    <tr>\n",
       "      <th>3</th>\n",
       "      <td>1</td>\n",
       "      <td>0</td>\n",
       "    </tr>\n",
       "    <tr>\n",
       "      <th>4</th>\n",
       "      <td>0</td>\n",
       "      <td>1</td>\n",
       "    </tr>\n",
       "  </tbody>\n",
       "</table>\n",
       "</div>"
      ],
      "text/plain": [
       "   gender_female  gender_male\n",
       "0              0            1\n",
       "1              1            0\n",
       "2              1            0\n",
       "3              1            0\n",
       "4              0            1"
      ]
     },
     "execution_count": 87,
     "metadata": {},
     "output_type": "execute_result"
    }
   ],
   "source": [
    "# using one hot encoding representations\n",
    "tmpdf = pd.get_dummies(df_imputed['Sex'],prefix='gender')\n",
    "tmpdf.head()"
   ]
  },
  {
   "cell_type": "code",
   "execution_count": 88,
   "metadata": {},
   "outputs": [
    {
     "data": {
      "text/html": [
       "<div>\n",
       "<style scoped>\n",
       "    .dataframe tbody tr th:only-of-type {\n",
       "        vertical-align: middle;\n",
       "    }\n",
       "\n",
       "    .dataframe tbody tr th {\n",
       "        vertical-align: top;\n",
       "    }\n",
       "\n",
       "    .dataframe thead th {\n",
       "        text-align: right;\n",
       "    }\n",
       "</style>\n",
       "<table border=\"1\" class=\"dataframe\">\n",
       "  <thead>\n",
       "    <tr style=\"text-align: right;\">\n",
       "      <th></th>\n",
       "      <th>class_1</th>\n",
       "      <th>class_2</th>\n",
       "      <th>class_3</th>\n",
       "    </tr>\n",
       "  </thead>\n",
       "  <tbody>\n",
       "    <tr>\n",
       "      <th>0</th>\n",
       "      <td>0</td>\n",
       "      <td>0</td>\n",
       "      <td>1</td>\n",
       "    </tr>\n",
       "    <tr>\n",
       "      <th>1</th>\n",
       "      <td>1</td>\n",
       "      <td>0</td>\n",
       "      <td>0</td>\n",
       "    </tr>\n",
       "    <tr>\n",
       "      <th>2</th>\n",
       "      <td>0</td>\n",
       "      <td>0</td>\n",
       "      <td>1</td>\n",
       "    </tr>\n",
       "    <tr>\n",
       "      <th>3</th>\n",
       "      <td>1</td>\n",
       "      <td>0</td>\n",
       "      <td>0</td>\n",
       "    </tr>\n",
       "    <tr>\n",
       "      <th>4</th>\n",
       "      <td>0</td>\n",
       "      <td>0</td>\n",
       "      <td>1</td>\n",
       "    </tr>\n",
       "  </tbody>\n",
       "</table>\n",
       "</div>"
      ],
      "text/plain": [
       "   class_1  class_2  class_3\n",
       "0        0        0        1\n",
       "1        1        0        0\n",
       "2        0        0        1\n",
       "3        1        0        0\n",
       "4        0        0        1"
      ]
     },
     "execution_count": 88,
     "metadata": {},
     "output_type": "execute_result"
    }
   ],
   "source": [
    "# using one hot encoding representations\n",
    "tmpdf = pd.get_dummies(df_imputed['Pclass'],prefix='class')\n",
    "tmpdf.head()"
   ]
  },
  {
   "cell_type": "code",
   "execution_count": null,
   "metadata": {},
   "outputs": [],
   "source": []
  }
 ],
 "metadata": {
  "kernelspec": {
   "display_name": "Python 3",
   "language": "python",
   "name": "python3"
  },
  "language_info": {
   "codemirror_mode": {
    "name": "ipython",
    "version": 3
   },
   "file_extension": ".py",
   "mimetype": "text/x-python",
   "name": "python",
   "nbconvert_exporter": "python",
   "pygments_lexer": "ipython3",
   "version": "3.6.5"
  }
 },
 "nbformat": 4,
 "nbformat_minor": 2
}
